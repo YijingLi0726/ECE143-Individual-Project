{
 "cells": [
  {
   "cell_type": "markdown",
   "metadata": {},
   "source": [
    "# Declaration：\n",
    "## This document uses modular programming, where individual functions are packaged as functions.\n",
    "## The front part is the import packages\n",
    "## The middle part is for each function\n",
    "## The end part are function calls for the 3 problems\n",
    "### Please see each section for detailed notations"
   ]
  },
  {
   "cell_type": "code",
   "execution_count": 40,
   "metadata": {},
   "outputs": [],
   "source": [
    "# coding = utf-8\n",
    "import matplotlib.pyplot as plt\n",
    "import random\n",
    "import numpy as np\n",
    "import math\n",
    "import copy"
   ]
  },
  {
   "cell_type": "code",
   "execution_count": 25,
   "metadata": {},
   "outputs": [],
   "source": [
    "%matplotlib inline"
   ]
  },
  {
   "cell_type": "markdown",
   "metadata": {},
   "source": [
    "## Global Variable Definitions\n",
    "### The window size variable represents the canvas size and it can be modified\n",
    "### DO NOT modify the remaining variables"
   ]
  },
  {
   "cell_type": "code",
   "execution_count": 42,
   "metadata": {},
   "outputs": [],
   "source": [
    "# Modifiable Variable\n",
    "WINDOW_SIZE = [10, 10]    # The Window Size\n",
    "\n",
    "# Unmodifiable Variables\n",
    "WINDOW_BACKGROUND = 0     # Background param\n",
    "WINDOW_FOREGROUND = 255   # Foreground param\n",
    "global rectangle_count    # Counter for number of rectangles\n",
    "rectangle_count = 0\n",
    "\n",
    "# region_window - Different rectangles are stored with different values\n",
    "region_window = WINDOW_BACKGROUND * np.ones(WINDOW_SIZE).astype(np.int)\n",
    "# region_window_bin - Store binary images\n",
    "region_window_bin = WINDOW_BACKGROUND * np.ones(WINDOW_SIZE).astype(np.int)"
   ]
  },
  {
   "cell_type": "code",
   "execution_count": 46,
   "metadata": {},
   "outputs": [],
   "source": [
    "# Trimming the Rectangle\n",
    "# Find a rectangle with the largest area from the area not covered by other rectangles.\n",
    "#\n",
    "# Convert the problem to solve for the largest rectangle of a histogram starting from a specific row.\n",
    "# Traverse the rows to find the rectangle with the largest area.\n",
    "\n",
    "def trim_rectangle(rectangle):\n",
    "    height, width = rectangle.shape[:2]\n",
    "    area_max = 0\n",
    "    x_from_max = 0\n",
    "    x_to_max = 0\n",
    "    y_from_max = 0\n",
    "    y_to_max = 0\n",
    "    \n",
    "    # Using the histogram statistical solution:\n",
    "    # For each time, start from the height_min line, count the histogram that start with this row.\n",
    "    for height_min in range(0, height):\n",
    "        histogram = []\n",
    "        for i in range(0, width):\n",
    "            histogram.append(0)\n",
    "        # Histogram stats\n",
    "        for x in range(0, width):\n",
    "            for y in range(height_min, height):\n",
    "                if rectangle[y, x] == WINDOW_BACKGROUND:\n",
    "                    histogram[x] += 1\n",
    "                else:\n",
    "                    break\n",
    "        # Calculate the largest rectangular area and position in the histogram\n",
    "        y_from, y_to, x_from, x_to, area = max_rectangle_in_histogram(histogram)\n",
    "        x_from += height_min\n",
    "        x_to += height_min\n",
    "        if area > area_max:\n",
    "            area_max = area\n",
    "            x_from_max = x_from\n",
    "            x_to_max = x_to + 1\n",
    "            y_from_max = y_from\n",
    "            y_to_max = y_to + 1\n",
    "    sup = copy.deepcopy(rectangle)\n",
    "\n",
    "    return x_from_max, x_to_max, y_from_max, y_to_max, area_max"
   ]
  },
  {
   "cell_type": "code",
   "execution_count": 47,
   "metadata": {},
   "outputs": [],
   "source": [
    "# Calculate the largest rectangle in a continuous histogram\n",
    "def max_rectangle_in_histogram(histogram):\n",
    "    histogram.append(-1)\n",
    "    stack = [0]\n",
    "    list_count = 0\n",
    "    pop_count = 0\n",
    "    area_max = 0\n",
    "    x_from_max = 0\n",
    "    x_to_max = 0\n",
    "    y_from_max = 0\n",
    "    y_to_max = 0\n",
    "    while len(stack) > 0:\n",
    "        if histogram[list_count] < stack[len(stack)-1]:\n",
    "            x_from = list_count - pop_count\n",
    "            y_to = stack[len(stack)-1]\n",
    "            pop_count += 1\n",
    "            if len(stack) == 2:\n",
    "                area = list_count * stack.pop()\n",
    "                x_from = 1\n",
    "            else:\n",
    "                area = pop_count * stack.pop()\n",
    "            if area > area_max:\n",
    "                area_max = area\n",
    "                x_from_max = x_from - 1\n",
    "                x_to_max = list_count - 1\n",
    "                y_from_max = 0\n",
    "                y_to_max = y_to - 1\n",
    "        else:\n",
    "            stack.append(histogram[list_count])\n",
    "            pop_count = 0\n",
    "            list_count += 1\n",
    "    return x_from_max, x_to_max, y_from_max, y_to_max, area_max"
   ]
  },
  {
   "cell_type": "code",
   "execution_count": 48,
   "metadata": {},
   "outputs": [],
   "source": [
    "# (Uniform distribution) Generates the random width and position coordinates of the rectangle\n",
    "# window_size - Save window size and make sure all rectangle will not exceed window range\n",
    "def create_rectangle_uniform(window_size):\n",
    "    rectangle_width = math.floor(random.uniform(1, window_size[0]))\n",
    "    rectangle_height = math.floor(random.uniform(1, window_size[1]))\n",
    "    rectangle_pos_x = math.floor(random.uniform(0, window_size[0] + 1 - rectangle_width))\n",
    "    rectangle_pos_y = math.floor(random.uniform(0, window_size[0] + 1 - rectangle_height))\n",
    "    return [rectangle_pos_x, rectangle_pos_y, rectangle_width, rectangle_height]"
   ]
  },
  {
   "cell_type": "code",
   "execution_count": 49,
   "metadata": {},
   "outputs": [],
   "source": [
    "# Calculate the area that already get covered\n",
    "def calculate_area(window):\n",
    "    width, height = window.shape[:2]\n",
    "    area = 0\n",
    "    for x in range(0, width):\n",
    "        for y in range(0, height):\n",
    "            if window[y, x] is not WINDOW_BACKGROUND:\n",
    "                area += 1\n",
    "    return area"
   ]
  },
  {
   "cell_type": "code",
   "execution_count": 50,
   "metadata": {},
   "outputs": [],
   "source": [
    "# Visualization\n",
    "def process_and_show(rectangle, is_show=True):\n",
    "    global rectangle_count\n",
    "    rectangle_count += 1\n",
    "    region_window_sup = copy.deepcopy(region_window_bin)\n",
    "    region_window_sup2 = copy.deepcopy(region_window_bin)\n",
    "    rectangle_not_trimmed = region_window[rectangle[0]:rectangle[0] + rectangle[2],\n",
    "                            rectangle[1]:rectangle[1] + rectangle[3]]\n",
    "    x_from, x_to, y_from, y_to, area = trim_rectangle(rectangle_not_trimmed)\n",
    "    if is_show:\n",
    "        plt.subplot(141)\n",
    "        plt.imshow(region_window_bin)\n",
    "    region_window_sup2[rectangle[0]:rectangle[0] + rectangle[2],\n",
    "                       rectangle[1]:rectangle[1] + rectangle[3]] \\\n",
    "        = WINDOW_FOREGROUND + 100\n",
    "    region_window_sup[rectangle[0] + x_from:rectangle[0] + x_to,\n",
    "                      rectangle[1] + y_from:rectangle[1] + y_to] \\\n",
    "        = WINDOW_FOREGROUND + 100\n",
    "    region_window_bin[rectangle[0] + x_from:rectangle[0] + x_to,\n",
    "                      rectangle[1] + y_from:rectangle[1] + y_to] \\\n",
    "        = WINDOW_FOREGROUND\n",
    "    region_window[rectangle[0] + x_from:rectangle[0] + x_to,\n",
    "                  rectangle[1] + y_from:rectangle[1] + y_to] \\\n",
    "        = rectangle_count\n",
    "    # Image Display\n",
    "    if is_show:\n",
    "        plt.subplot(142)\n",
    "        plt.imshow(region_window_sup2)\n",
    "        plt.subplot(143)\n",
    "        plt.imshow(region_window_sup)\n",
    "        plt.subplot(144)\n",
    "        plt.imshow(region_window)\n",
    "        plt.show()\n",
    "    return None"
   ]
  },
  {
   "cell_type": "code",
   "execution_count": 51,
   "metadata": {},
   "outputs": [],
   "source": [
    "# Reset the canvas and clear the rectangle in the canvas\n",
    "def window_reset(WINDOW_SIZE):\n",
    "    global region_window\n",
    "    global region_window_bin\n",
    "    # region_window - Different rectangles are stored with different values\n",
    "    region_window = WINDOW_BACKGROUND * np.ones(WINDOW_SIZE).astype(np.int)\n",
    "    # region_window_bin - Store binary images\n",
    "    region_window_bin = WINDOW_BACKGROUND * np.ones(WINDOW_SIZE).astype(np.int)"
   ]
  },
  {
   "cell_type": "code",
   "execution_count": 57,
   "metadata": {},
   "outputs": [],
   "source": [
    "# Function for Problem 1:\n",
    "# Given a preset rectangle, calculate the final footprint\n",
    "def question_1(retangles, is_show=False):\n",
    "    window_reset(WINDOW_SIZE)\n",
    "    n = len(retangles)\n",
    "    for num in range(0, n):\n",
    "        process_and_show(retangles[num], is_show=is_show)\n",
    "    area = calculate_area(region_window)\n",
    "    return area"
   ]
  },
  {
   "cell_type": "code",
   "execution_count": 58,
   "metadata": {},
   "outputs": [],
   "source": [
    "# Function for Problem 2:\n",
    "# Given a preset rectangle, calculate the sum of the final footprint and the area of all rectangles\n",
    "def question_2(retangles, is_show=False):\n",
    "    window_reset(WINDOW_SIZE)\n",
    "    total_area = question_1(retangles, is_show=is_show)\n",
    "    original_area = 0\n",
    "    n = len(retangles)\n",
    "    for num in range(0, n):\n",
    "        original_area += retangles[num][2] * retangles[num][3]\n",
    "    return total_area, original_area"
   ]
  },
  {
   "cell_type": "code",
   "execution_count": 59,
   "metadata": {},
   "outputs": [],
   "source": [
    "# Function for Problem 3:\n",
    "# Given the number of repetitions num_repeat, calculate how many rectangles are needed each time to fully cover the canvas\n",
    "def question_3(num_repeat=1000, is_show=False):\n",
    "    count = 0\n",
    "    for i in range(0, num_repeat):\n",
    "        window_reset(WINDOW_SIZE)\n",
    "        while np.min(region_window) == WINDOW_BACKGROUND:\n",
    "            count += 1\n",
    "            rectangle = create_rectangle_uniform(WINDOW_SIZE)\n",
    "            process_and_show(rectangle, is_show=is_show)\n",
    "    return count/num_repeat"
   ]
  },
  {
   "cell_type": "markdown",
   "metadata": {},
   "source": [
    "## Problem 1\n",
    "### Given an overall desired coverage footprint and a sequence of n communications towers, what is the resulting resolved coverage?"
   ]
  },
  {
   "cell_type": "code",
   "execution_count": 63,
   "metadata": {},
   "outputs": [
    {
     "name": "stdout",
     "output_type": "stream",
     "text": [
      "area = 100\n"
     ]
    }
   ],
   "source": [
    "# Solving Problem 1\n",
    "# Pre-build rectangles for input\n",
    "retangles = []\n",
    "rect_num = 10\n",
    "for i in range(0, rect_num):\n",
    "    retangle = create_rectangle_uniform(WINDOW_SIZE)\n",
    "    retangles.append(retangle)\n",
    "\n",
    "area = question_1(retangles, is_show=False)\n",
    "print(\"area =\", area)    # Area Covered"
   ]
  },
  {
   "cell_type": "markdown",
   "metadata": {},
   "source": [
    "## Problem 2\n",
    "### What is the total area of coverage relative to the desired total coverage area of the original footprint? That is, are there any gaps in coverage?"
   ]
  },
  {
   "cell_type": "code",
   "execution_count": 68,
   "metadata": {},
   "outputs": [
    {
     "name": "stdout",
     "output_type": "stream",
     "text": [
      "total_area = 100\n",
      "original_area = 165\n",
      "Percentage = 60.60606060606061\n"
     ]
    }
   ],
   "source": [
    "# Solving Problem 2\n",
    "# Pre-build rectangles for input\n",
    "retangles = []\n",
    "rect_num = 10\n",
    "for i in range(0, rect_num):\n",
    "    retangle = create_rectangle_uniform(WINDOW_SIZE)\n",
    "    retangles.append(retangle)\n",
    "\n",
    "total_area, original_area = question_2(retangles, is_show=False)\n",
    "print(\"total_area =\", total_area)    # Area Covered\n",
    "print(\"original_area =\",original_area)    # Area of the original footprint\n",
    "print(\"Percentage =\", (total_area/original_area)*100)"
   ]
  },
  {
   "cell_type": "markdown",
   "metadata": {},
   "source": [
    "## Problem 3\n",
    "### On average, how many communications towers are required before full coverage is obtained?"
   ]
  },
  {
   "cell_type": "code",
   "execution_count": 69,
   "metadata": {},
   "outputs": [
    {
     "name": "stdout",
     "output_type": "stream",
     "text": [
      "average towers= 52.03\n"
     ]
    }
   ],
   "source": [
    "# Solving Problem 3\n",
    "average_towers = question_3(num_repeat=1000, is_show=False)\n",
    "print(\"average towers=\", average_towers)    # On average, how many rectangles are needed each time to fully cover the canvas"
   ]
  },
  {
   "cell_type": "markdown",
   "metadata": {},
   "source": [
    "## Visualization Examples\n",
    "### Randomly generate rectangles, compare to the existing rectangles in the canvas, and cut out the largest sub-rectangle.\n",
    "### The four output images indicate:\n",
    "### 1. The canvas before the rectangle is added (the location of the existing rectangle is represented by the same color)\n",
    "### 2. Canvas after adding uncut rectangle (existing rectangle and newly added rectangle are represented by different colors)\n",
    "### 3. Canvas after adding trimmed rectangle (previous rectangles and cropped rectangles are represented by different colors)\n",
    "### 4. Canvas after adding trimmed rectangle (different rectangles are represented by different colors)"
   ]
  },
  {
   "cell_type": "code",
   "execution_count": 73,
   "metadata": {},
   "outputs": [
    {
     "name": "stdout",
     "output_type": "stream",
     "text": [
      "0\n"
     ]
    },
    {
     "data": {
      "image/png": "[encoded data removed]",
      "text/plain": [
       "<Figure size 432x288 with 4 Axes>"
      ]
     },
     "metadata": {},
     "output_type": "display_data"
    },
    {
     "name": "stdout",
     "output_type": "stream",
     "text": [
      "1\n"
     ]
    },
    {
     "data": {
      "image/png": "[encoded data removed]",
      "text/plain": [
       "<Figure size 432x288 with 4 Axes>"
      ]
     },
     "metadata": {},
     "output_type": "display_data"
    },
    {
     "name": "stdout",
     "output_type": "stream",
     "text": [
      "2\n"
     ]
    },
    {
     "data": {
      "image/png": "[encoded data removed]",
      "text/plain": [
       "<Figure size 432x288 with 4 Axes>"
      ]
     },
     "metadata": {},
     "output_type": "display_data"
    },
    {
     "name": "stdout",
     "output_type": "stream",
     "text": [
      "3\n"
     ]
    },
    {
     "data": {
      "image/png": "[encoded data removed]",
      "text/plain": [
       "<Figure size 432x288 with 4 Axes>"
      ]
     },
     "metadata": {},
     "output_type": "display_data"
    },
    {
     "name": "stdout",
     "output_type": "stream",
     "text": [
      "4\n"
     ]
    },
    {
     "data": {
      "image/png": "[encoded data removed]",
      "text/plain": [
       "<Figure size 432x288 with 4 Axes>"
      ]
     },
     "metadata": {},
     "output_type": "display_data"
    },
    {
     "name": "stdout",
     "output_type": "stream",
     "text": [
      "5\n"
     ]
    },
    {
     "data": {
      "image/png": "[encoded data removed]",
      "text/plain": [
       "<Figure size 432x288 with 4 Axes>"
      ]
     },
     "metadata": {},
     "output_type": "display_data"
    },
    {
     "name": "stdout",
     "output_type": "stream",
     "text": [
      "6\n"
     ]
    },
    {
     "data": {
      "image/png": "[encoded data removed]",
      "text/plain": [
       "<Figure size 432x288 with 4 Axes>"
      ]
     },
     "metadata": {},
     "output_type": "display_data"
    },
    {
     "name": "stdout",
     "output_type": "stream",
     "text": [
      "7\n"
     ]
    },
    {
     "data": {
      "image/png": "[encoded data removed]",
      "text/plain": [
       "<Figure size 432x288 with 4 Axes>"
      ]
     },
     "metadata": {},
     "output_type": "display_data"
    },
    {
     "name": "stdout",
     "output_type": "stream",
     "text": [
      "8\n"
     ]
    },
    {
     "data": {
      "image/png": "[encoded data removed]",
      "text/plain": [
       "<Figure size 432x288 with 4 Axes>"
      ]
     },
     "metadata": {},
     "output_type": "display_data"
    },
    {
     "name": "stdout",
     "output_type": "stream",
     "text": [
      "9\n"
     ]
    },
    {
     "data": {
      "image/png": "[encoded data removed]",
      "text/plain": [
       "<Figure size 432x288 with 4 Axes>"
      ]
     },
     "metadata": {},
     "output_type": "display_data"
    }
   ],
   "source": [
    "# Visualization Example\n",
    "# Pre-build rectangles for input\n",
    "window_reset(WINDOW_SIZE)\n",
    "rectangle_count = 1\n",
    "rect_num = 10\n",
    "for i in range(0, rect_num):\n",
    "    retangle = create_rectangle_uniform(WINDOW_SIZE)\n",
    "    print(i)\n",
    "    process_and_show(retangle, is_show=True)"
   ]
  },
  {
   "cell_type": "code",
   "execution_count": null,
   "metadata": {},
   "outputs": [],
   "source": []
  }
 ],
 "metadata": {
  "kernelspec": {
   "display_name": "Python 3",
   "language": "python",
   "name": "python3"
  },
  "language_info": {
   "codemirror_mode": {
    "name": "ipython",
    "version": 3
   },
   "file_extension": ".py",
   "mimetype": "text/x-python",
   "name": "python",
   "nbconvert_exporter": "python",
   "pygments_lexer": "ipython3",
   "version": "3.6.1"
  }
 },
 "nbformat": 4,
 "nbformat_minor": 2
}
